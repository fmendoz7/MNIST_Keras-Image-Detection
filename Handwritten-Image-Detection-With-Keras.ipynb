{
 "cells": [
  {
   "cell_type": "markdown",
   "metadata": {},
   "source": [
    "## Handwritten Image Detection with Keras \n",
    "\n",
    "In this project we will work with image data: specifically the famous MNIST and Fashion MNIST data sets.  MNIST data set contains 70,000 images of handwritten digits in grayscale (0=black, 255 = white). Fashion MNIST data set contains 70,000 images of clothing in grayscale (0=black, 255 = white). All the images are 28 pixels by 28 pixels for a total of 784 pixels.  This is quite small by image standards.  Also, the images are well centered and isolated.  This makes this problem solvable with standard fully connected neural nets without too much pre-work. <br><br>\n",
    "We will use a Convolutional Neural Network and compare it with a linear neural network. "
   ]
  },
  {
   "cell_type": "markdown",
   "metadata": {},
   "source": [
    "In the first part of this notebook, we will walk you through loading in the data, building a network, and training it.  Then it will be your turn to try different models and see if you can improve performance"
   ]
  },
  {
   "cell_type": "code",
   "execution_count": 1,
   "metadata": {},
   "outputs": [
    {
     "name": "stderr",
     "output_type": "stream",
     "text": [
      "Using TensorFlow backend.\n"
     ]
    }
   ],
   "source": [
    "# Preliminaries\n",
    "\n",
    "from __future__ import print_function\n",
    "\n",
    "import keras\n",
    "from keras.datasets import mnist\n",
    "from keras.models import Sequential\n",
    "from keras.layers import Dense, Dropout, Conv2D, MaxPooling2D, Flatten\n",
    "from keras.optimizers import RMSprop\n",
    "from keras.datasets import fashion_mnist\n",
    "\n",
    "import numpy as np\n",
    "import matplotlib.pyplot as plt\n",
    "%matplotlib inline"
   ]
  },
  {
   "cell_type": "markdown",
   "metadata": {
    "collapsed": true
   },
   "source": [
    "Let's explore the dataset a little bit"
   ]
  },
  {
   "cell_type": "code",
   "execution_count": 2,
   "metadata": {},
   "outputs": [],
   "source": [
    "# Load the data, shuffled and split between train and test sets\n",
    "(x_train, y_train), (x_test, y_test) = mnist.load_data()"
   ]
  },
  {
   "cell_type": "code",
   "execution_count": 3,
   "metadata": {},
   "outputs": [
    {
     "data": {
      "text/plain": [
       "(60000, 28, 28)"
      ]
     },
     "execution_count": 3,
     "metadata": {},
     "output_type": "execute_result"
    }
   ],
   "source": [
    "x_train.shape"
   ]
  },
  {
   "cell_type": "code",
   "execution_count": 4,
   "metadata": {},
   "outputs": [
    {
     "data": {
      "text/plain": [
       "array([[  0,   0,   0,   0,   0,   0,   0,   0,   0,   0,   0,   0,   0,\n",
       "          0,   0,   0,   0,   0,   0,   0,   0,   0,   0,   0,   0,   0,\n",
       "          0,   0],\n",
       "       [  0,   0,   0,   0,   0,   0,   0,   0,   0,   0,   0,   0,   0,\n",
       "          0,   0,   0,   0,   0,   0,   0,   0,   0,   0,   0,   0,   0,\n",
       "          0,   0],\n",
       "       [  0,   0,   0,   0,   0,   0,   0,   0,   0,   0,   0,   0,   0,\n",
       "          0,   0,   0,   0,   0,   0,   0,   0,   0,   0,   0,   0,   0,\n",
       "          0,   0],\n",
       "       [  0,   0,   0,   0,   0,   0,   0,   0,   0,   0,   0,   0,   0,\n",
       "          0,   0,   0,   0,   0,   0,   0,   0,   0,   0,   0,   0,   0,\n",
       "          0,   0],\n",
       "       [  0,   0,   0,   0,   0,   0,   0,   0,   0,   0,   0,   0,   0,\n",
       "          0,   0,   0,   0,   0,   0,   0,   0,   0,   0,   0,   0,   0,\n",
       "          0,   0],\n",
       "       [  0,   0,   0,   0,   0,   0,   0,   0,   0,   0,   0,  87, 138,\n",
       "        170, 253, 201, 244, 212, 222, 138,  86,  22,   0,   0,   0,   0,\n",
       "          0,   0],\n",
       "       [  0,   0,   0,   0,   0,   0,   0,   0,   0,   0,  95, 253, 252,\n",
       "        252, 252, 252, 253, 252, 252, 252, 252, 245,  80,   0,   0,   0,\n",
       "          0,   0],\n",
       "       [  0,   0,   0,   0,   0,   0,   0,   0,   0,  68, 246, 205,  69,\n",
       "         69,  69,  69,  69,  69,  69,  69, 205, 253, 240,  50,   0,   0,\n",
       "          0,   0],\n",
       "       [  0,   0,   0,   0,   0,   0,   0,   0,   0, 187, 252, 218,  34,\n",
       "          0,   0,   0,   0,   0,   0,   0, 116, 253, 252,  69,   0,   0,\n",
       "          0,   0],\n",
       "       [  0,   0,   0,   0,   0,   0,   0,   0, 116, 248, 252, 253,  92,\n",
       "          0,   0,   0,   0,   0,   0,  95, 230, 253, 157,   6,   0,   0,\n",
       "          0,   0],\n",
       "       [  0,   0,   0,   0,   0,   0,   0,   0, 116, 249, 253, 189,  42,\n",
       "          0,   0,   0,   0,  36, 170, 253, 243, 158,   0,   0,   0,   0,\n",
       "          0,   0],\n",
       "       [  0,   0,   0,   0,   0,   0,   0,   0,   0, 133, 252, 245, 140,\n",
       "         34,   0,   0,  57, 219, 252, 235,  60,   0,   0,   0,   0,   0,\n",
       "          0,   0],\n",
       "       [  0,   0,   0,   0,   0,   0,   0,   0,   0,  25, 205, 253, 252,\n",
       "        234, 184, 184, 253, 240, 100,  44,   0,   0,   0,   0,   0,   0,\n",
       "          0,   0],\n",
       "       [  0,   0,   0,   0,   0,   0,   0,   0,   0,   0,  21, 161, 219,\n",
       "        252, 252, 252, 234,  37,   0,   0,   0,   0,   0,   0,   0,   0,\n",
       "          0,   0],\n",
       "       [  0,   0,   0,   0,   0,   0,   0,   0,   0,   0,   0,  11, 203,\n",
       "        252, 252, 252, 251, 135,   0,   0,   0,   0,   0,   0,   0,   0,\n",
       "          0,   0],\n",
       "       [  0,   0,   0,   0,   0,   0,   0,   0,   0,   9,  76, 255, 253,\n",
       "        205, 168, 220, 255, 253, 137,   5,   0,   0,   0,   0,   0,   0,\n",
       "          0,   0],\n",
       "       [  0,   0,   0,   0,   0,   0,   0,   0,   0, 114, 252, 249, 132,\n",
       "         25,   0,   0, 180, 252, 252,  45,   0,   0,   0,   0,   0,   0,\n",
       "          0,   0],\n",
       "       [  0,   0,   0,   0,   0,   0,   0,   0,  51, 220, 252, 199,   0,\n",
       "          0,   0,   0,  38, 186, 252, 154,   7,   0,   0,   0,   0,   0,\n",
       "          0,   0],\n",
       "       [  0,   0,   0,   0,   0,   0,   0,   0, 184, 252, 252,  21,   0,\n",
       "          0,   0,   0,   0,  67, 252, 252,  22,   0,   0,   0,   0,   0,\n",
       "          0,   0],\n",
       "       [  0,   0,   0,   0,   0,   0,   0,   0, 184, 252, 200,   0,   0,\n",
       "          0,   0,   0,   0,  47, 252, 252,  22,   0,   0,   0,   0,   0,\n",
       "          0,   0],\n",
       "       [  0,   0,   0,   0,   0,   0,   0,   0, 185, 253, 201,   0,   0,\n",
       "          0,   0,   0,   3, 118, 253, 245,  21,   0,   0,   0,   0,   0,\n",
       "          0,   0],\n",
       "       [  0,   0,   0,   0,   0,   0,   0,   0, 163, 252, 252,   0,   0,\n",
       "          0,   0,   0,  97, 252, 252,  87,   0,   0,   0,   0,   0,   0,\n",
       "          0,   0],\n",
       "       [  0,   0,   0,   0,   0,   0,   0,   0,  51, 240, 252, 123,  70,\n",
       "         70, 112, 184, 222, 252, 170,  13,   0,   0,   0,   0,   0,   0,\n",
       "          0,   0],\n",
       "       [  0,   0,   0,   0,   0,   0,   0,   0,   0, 165, 252, 253, 252,\n",
       "        252, 252, 252, 245, 139,  13,   0,   0,   0,   0,   0,   0,   0,\n",
       "          0,   0],\n",
       "       [  0,   0,   0,   0,   0,   0,   0,   0,   0,   9,  75, 253, 252,\n",
       "        221, 137, 137,  21,   0,   0,   0,   0,   0,   0,   0,   0,   0,\n",
       "          0,   0],\n",
       "       [  0,   0,   0,   0,   0,   0,   0,   0,   0,   0,   0,   0,   0,\n",
       "          0,   0,   0,   0,   0,   0,   0,   0,   0,   0,   0,   0,   0,\n",
       "          0,   0],\n",
       "       [  0,   0,   0,   0,   0,   0,   0,   0,   0,   0,   0,   0,   0,\n",
       "          0,   0,   0,   0,   0,   0,   0,   0,   0,   0,   0,   0,   0,\n",
       "          0,   0],\n",
       "       [  0,   0,   0,   0,   0,   0,   0,   0,   0,   0,   0,   0,   0,\n",
       "          0,   0,   0,   0,   0,   0,   0,   0,   0,   0,   0,   0,   0,\n",
       "          0,   0]], dtype=uint8)"
      ]
     },
     "execution_count": 4,
     "metadata": {},
     "output_type": "execute_result"
    }
   ],
   "source": [
    "#Let's just look at a particular example to see what is inside\n",
    "\n",
    "x_train[333]  ## Just a 28 x 28 numpy array of ints from 0 to 255"
   ]
  },
  {
   "cell_type": "code",
   "execution_count": 5,
   "metadata": {},
   "outputs": [
    {
     "data": {
      "text/plain": [
       "8"
      ]
     },
     "execution_count": 5,
     "metadata": {},
     "output_type": "execute_result"
    }
   ],
   "source": [
    "# What is the corresponding label in the training set?\n",
    "y_train[333]"
   ]
  },
  {
   "cell_type": "code",
   "execution_count": 6,
   "metadata": {},
   "outputs": [
    {
     "data": {
      "text/plain": [
       "<matplotlib.image.AxesImage at 0x1ba7b13a320>"
      ]
     },
     "execution_count": 6,
     "metadata": {},
     "output_type": "execute_result"
    },
    {
     "data": {
      "image/png": "[encoded data removed]",
      "text/plain": [
       "<Figure size 432x288 with 1 Axes>"
      ]
     },
     "metadata": {
      "needs_background": "light"
     },
     "output_type": "display_data"
    }
   ],
   "source": [
    "# Let's see what this image actually looks like\n",
    "\n",
    "plt.imshow(x_train[333], cmap='Greys_r')"
   ]
  },
  {
   "cell_type": "code",
   "execution_count": 7,
   "metadata": {},
   "outputs": [
    {
     "name": "stdout",
     "output_type": "stream",
     "text": [
      "(60000, 28, 28) train samples\n",
      "(10000, 28, 28) test samples\n"
     ]
    }
   ],
   "source": [
    "# this is the shape of the np.array x_train\n",
    "# it is 3 dimensional.\n",
    "print(x_train.shape, 'train samples')\n",
    "print(x_test.shape, 'test samples')"
   ]
  },
  {
   "cell_type": "code",
   "execution_count": 8,
   "metadata": {},
   "outputs": [],
   "source": [
    "## For our purposes, these images are just a vector of 784 inputs, so let's convert\n",
    "x_train = x_train.reshape(len(x_train), 28*28)\n",
    "x_test = x_test.reshape(len(x_test), 28*28)\n",
    "\n",
    "## Keras works with floats, so we must cast the numbers to floats\n",
    "x_train = x_train.astype('float32')\n",
    "x_test = x_test.astype('float32')\n",
    "\n",
    "## Normalize the inputs so they are between 0 and 1\n",
    "x_train /= 255\n",
    "x_test /= 255\n"
   ]
  },
  {
   "cell_type": "code",
   "execution_count": 9,
   "metadata": {},
   "outputs": [
    {
     "data": {
      "text/plain": [
       "array([0., 0., 0., 0., 0., 0., 0., 0., 1., 0.], dtype=float32)"
      ]
     },
     "execution_count": 9,
     "metadata": {},
     "output_type": "execute_result"
    }
   ],
   "source": [
    "# convert class vectors to binary class matrices\n",
    "num_classes = 10\n",
    "y_train = keras.utils.to_categorical(y_train, num_classes)\n",
    "y_test = keras.utils.to_categorical(y_test, num_classes)\n",
    "\n",
    "y_train[333]  # now the digit k is represented by a 1 in the kth entry (0-indexed) of the length 10 vector"
   ]
  },
  {
   "cell_type": "code",
   "execution_count": 10,
   "metadata": {},
   "outputs": [],
   "source": [
    "# We will build a model with two hidden layers of size 512\n",
    "# Fully connected inputs at each layer\n",
    "# We will use dropout of .2 to help regularize\n",
    "model_1 = Sequential()\n",
    "model_1.add(Dense(64, activation='relu', input_shape=(784,)))\n",
    "model_1.add(Dropout(0.2))\n",
    "model_1.add(Dense(64, activation='relu'))\n",
    "model_1.add(Dropout(0.2))\n",
    "model_1.add(Dense(10, activation='softmax'))"
   ]
  },
  {
   "cell_type": "code",
   "execution_count": 11,
   "metadata": {
    "scrolled": true
   },
   "outputs": [
    {
     "name": "stdout",
     "output_type": "stream",
     "text": [
      "Model: \"sequential_1\"\n",
      "_________________________________________________________________\n",
      "Layer (type)                 Output Shape              Param #   \n",
      "=================================================================\n",
      "dense_1 (Dense)              (None, 64)                50240     \n",
      "_________________________________________________________________\n",
      "dropout_1 (Dropout)          (None, 64)                0         \n",
      "_________________________________________________________________\n",
      "dense_2 (Dense)              (None, 64)                4160      \n",
      "_________________________________________________________________\n",
      "dropout_2 (Dropout)          (None, 64)                0         \n",
      "_________________________________________________________________\n",
      "dense_3 (Dense)              (None, 10)                650       \n",
      "=================================================================\n",
      "Total params: 55,050\n",
      "Trainable params: 55,050\n",
      "Non-trainable params: 0\n",
      "_________________________________________________________________\n"
     ]
    }
   ],
   "source": [
    "## Note that this model has a LOT of parameters\n",
    "model_1.summary()"
   ]
  },
  {
   "cell_type": "code",
   "execution_count": 12,
   "metadata": {},
   "outputs": [],
   "source": [
    "# Let's compile the model\n",
    "learning_rate = .001\n",
    "model_1.compile(loss='categorical_crossentropy',\n",
    "              optimizer=RMSprop(lr=learning_rate),\n",
    "              metrics=['accuracy'])\n",
    "# note that `categorical cross entropy` is the natural generalization \n",
    "# of the loss function we had in binary classification case, to multi class case"
   ]
  },
  {
   "cell_type": "code",
   "execution_count": 13,
   "metadata": {},
   "outputs": [
    {
     "name": "stdout",
     "output_type": "stream",
     "text": [
      "Train on 60000 samples, validate on 10000 samples\n",
      "Epoch 1/30\n",
      "60000/60000 [==============================] - 1s 25us/step - loss: 0.5242 - accuracy: 0.8433 - val_loss: 0.2085 - val_accuracy: 0.9366\n",
      "Epoch 2/30\n",
      "60000/60000 [==============================] - 1s 23us/step - loss: 0.2570 - accuracy: 0.9235 - val_loss: 0.1531 - val_accuracy: 0.9526\n",
      "Epoch 3/30\n",
      "60000/60000 [==============================] - 1s 24us/step - loss: 0.2009 - accuracy: 0.9408 - val_loss: 0.1273 - val_accuracy: 0.9623\n",
      "Epoch 4/30\n",
      "60000/60000 [==============================] - 1s 24us/step - loss: 0.1715 - accuracy: 0.9492 - val_loss: 0.1134 - val_accuracy: 0.9648\n",
      "Epoch 5/30\n",
      "60000/60000 [==============================] - 1s 23us/step - loss: 0.1559 - accuracy: 0.9550 - val_loss: 0.1073 - val_accuracy: 0.9682\n",
      "Epoch 6/30\n",
      "60000/60000 [==============================] - 2s 26us/step - loss: 0.1420 - accuracy: 0.9570 - val_loss: 0.1034 - val_accuracy: 0.9692\n",
      "Epoch 7/30\n",
      "60000/60000 [==============================] - 1s 23us/step - loss: 0.1346 - accuracy: 0.9599 - val_loss: 0.1018 - val_accuracy: 0.9704\n",
      "Epoch 8/30\n",
      "60000/60000 [==============================] - 1s 23us/step - loss: 0.1254 - accuracy: 0.9625 - val_loss: 0.1026 - val_accuracy: 0.9703\n",
      "Epoch 9/30\n",
      "60000/60000 [==============================] - 1s 22us/step - loss: 0.1190 - accuracy: 0.9647 - val_loss: 0.0978 - val_accuracy: 0.9718\n",
      "Epoch 10/30\n",
      "60000/60000 [==============================] - 1s 22us/step - loss: 0.1157 - accuracy: 0.9658 - val_loss: 0.0982 - val_accuracy: 0.9716\n",
      "Epoch 11/30\n",
      "60000/60000 [==============================] - 1s 21us/step - loss: 0.1102 - accuracy: 0.9668 - val_loss: 0.0960 - val_accuracy: 0.9720\n",
      "Epoch 12/30\n",
      "60000/60000 [==============================] - 1s 23us/step - loss: 0.1092 - accuracy: 0.9676 - val_loss: 0.0986 - val_accuracy: 0.9710\n",
      "Epoch 13/30\n",
      "60000/60000 [==============================] - 1s 22us/step - loss: 0.1034 - accuracy: 0.9688 - val_loss: 0.0965 - val_accuracy: 0.9724\n",
      "Epoch 14/30\n",
      "60000/60000 [==============================] - 1s 23us/step - loss: 0.1034 - accuracy: 0.9694 - val_loss: 0.1008 - val_accuracy: 0.9735\n",
      "Epoch 15/30\n",
      "60000/60000 [==============================] - 1s 21us/step - loss: 0.0980 - accuracy: 0.9708 - val_loss: 0.1017 - val_accuracy: 0.9746\n",
      "Epoch 16/30\n",
      "60000/60000 [==============================] - 1s 22us/step - loss: 0.0993 - accuracy: 0.9700 - val_loss: 0.0969 - val_accuracy: 0.9744\n",
      "Epoch 17/30\n",
      "60000/60000 [==============================] - 1s 21us/step - loss: 0.0945 - accuracy: 0.9714 - val_loss: 0.0975 - val_accuracy: 0.9745\n",
      "Epoch 18/30\n",
      "60000/60000 [==============================] - 1s 23us/step - loss: 0.0928 - accuracy: 0.9726 - val_loss: 0.1021 - val_accuracy: 0.9732\n",
      "Epoch 19/30\n",
      "60000/60000 [==============================] - 1s 22us/step - loss: 0.0934 - accuracy: 0.9732 - val_loss: 0.1000 - val_accuracy: 0.9751\n",
      "Epoch 20/30\n",
      "60000/60000 [==============================] - 1s 21us/step - loss: 0.0892 - accuracy: 0.9735 - val_loss: 0.0990 - val_accuracy: 0.9745\n",
      "Epoch 21/30\n",
      "60000/60000 [==============================] - 1s 22us/step - loss: 0.0876 - accuracy: 0.9732 - val_loss: 0.1046 - val_accuracy: 0.9740\n",
      "Epoch 22/30\n",
      "60000/60000 [==============================] - 1s 22us/step - loss: 0.0891 - accuracy: 0.9739 - val_loss: 0.1013 - val_accuracy: 0.9749\n",
      "Epoch 23/30\n",
      "60000/60000 [==============================] - 1s 22us/step - loss: 0.0879 - accuracy: 0.9744 - val_loss: 0.1039 - val_accuracy: 0.9747\n",
      "Epoch 24/30\n",
      "60000/60000 [==============================] - 1s 21us/step - loss: 0.0855 - accuracy: 0.9746 - val_loss: 0.1079 - val_accuracy: 0.9742\n",
      "Epoch 25/30\n",
      "60000/60000 [==============================] - 1s 22us/step - loss: 0.0840 - accuracy: 0.9764 - val_loss: 0.1058 - val_accuracy: 0.9748\n",
      "Epoch 26/30\n",
      "60000/60000 [==============================] - 1s 21us/step - loss: 0.0801 - accuracy: 0.9758 - val_loss: 0.1083 - val_accuracy: 0.9738\n",
      "Epoch 27/30\n",
      "60000/60000 [==============================] - 1s 21us/step - loss: 0.0831 - accuracy: 0.9753 - val_loss: 0.0999 - val_accuracy: 0.9757\n",
      "Epoch 28/30\n",
      "60000/60000 [==============================] - 1s 22us/step - loss: 0.0819 - accuracy: 0.9763 - val_loss: 0.1049 - val_accuracy: 0.9760\n",
      "Epoch 29/30\n",
      "60000/60000 [==============================] - 1s 22us/step - loss: 0.0815 - accuracy: 0.9765 - val_loss: 0.1044 - val_accuracy: 0.9761\n",
      "Epoch 30/30\n",
      "60000/60000 [==============================] - 1s 21us/step - loss: 0.0816 - accuracy: 0.9770 - val_loss: 0.1120 - val_accuracy: 0.9748\n"
     ]
    }
   ],
   "source": [
    "# And now let's fit.\n",
    "\n",
    "batch_size = 128  # mini-batch with 128 examples\n",
    "epochs = 30\n",
    "history = model_1.fit(\n",
    "    x_train, y_train,\n",
    "    batch_size=batch_size,\n",
    "    epochs=epochs,\n",
    "    verbose=1,\n",
    "    validation_data=(x_test, y_test))"
   ]
  },
  {
   "cell_type": "code",
   "execution_count": 14,
   "metadata": {},
   "outputs": [
    {
     "name": "stdout",
     "output_type": "stream",
     "text": [
      "Test loss: 0.11203287208925031\n",
      "Test accuracy: 0.9747999906539917\n"
     ]
    }
   ],
   "source": [
    "## We will use Keras evaluate function to evaluate performance on the test set\n",
    "\n",
    "score = model_1.evaluate(x_test, y_test, verbose=0)\n",
    "print('Test loss:', score[0])\n",
    "print('Test accuracy:', score[1])"
   ]
  },
  {
   "cell_type": "code",
   "execution_count": 15,
   "metadata": {},
   "outputs": [
    {
     "data": {
      "image/png": "[encoded data removed]",
      "text/plain": [
       "<Figure size 864x432 with 2 Axes>"
      ]
     },
     "metadata": {
      "needs_background": "light"
     },
     "output_type": "display_data"
    }
   ],
   "source": [
    "def plot_loss_accuracy(history):\n",
    "    fig = plt.figure(figsize=(12, 6))\n",
    "    ax = fig.add_subplot(1, 2, 1)\n",
    "    ax.plot(history.history[\"loss\"],'r-x', label=\"Train Loss\")\n",
    "    ax.plot(history.history[\"val_loss\"],'b-x', label=\"Validation Loss\")\n",
    "    ax.legend()\n",
    "    ax.set_title('cross_entropy loss')\n",
    "    ax.grid(True)\n",
    "\n",
    "\n",
    "    ax = fig.add_subplot(1, 2, 2)\n",
    "    ax.plot(history.history[\"accuracy\"],'r-x', label=\"Train Accuracy\")\n",
    "    ax.plot(history.history[\"val_accuracy\"],'b-x', label=\"Validation Accuracy\")\n",
    "    ax.legend()\n",
    "    ax.set_title('accuracy')\n",
    "    ax.grid(True)\n",
    "    \n",
    "\n",
    "plot_loss_accuracy(history)"
   ]
  },
  {
   "cell_type": "markdown",
   "metadata": {},
   "source": [
    "This is reasonably good performance, but we can do even better!  Next you will build an even bigger network and compare the performance."
   ]
  },
  {
   "cell_type": "markdown",
   "metadata": {},
   "source": [
    "### -----------------------------------------------------------------------------------------------------------------------------"
   ]
  },
  {
   "cell_type": "markdown",
   "metadata": {},
   "source": [
    "### Keras Layers for CNNs\n",
    "- Previously we built Neural Networks using primarily the Dense, Activation and Dropout Layers.\n",
    "\n",
    "- Here we will describe how to use some of the CNN-specific layers provided by Keras\n",
    "\n",
    "### (!!!) NOTE THAT WE ARE USING A DIFFERENT MODEL\n",
    "\n",
    "#### Conv2D\n",
    "\n",
    "```python\n",
    "keras.layers.convolutional.Conv2D(filters, kernel_size, strides=(1, 1), padding='valid', data_format=None, dilation_rate=(1, 1), activation=None, use_bias=True, kernel_initializer='glorot_uniform', bias_initializer='zeros', kernel_regularizer=None, bias_regularizer=None, activity_regularizer=None, kernel_constraint=None, bias_constraint=None, **kwargs)\n",
    "```\n",
    "\n",
    "A few parameters explained:\n",
    "- `filters`: the number of filter used per location.  In other words, the depth of the output.\n",
    "- `kernel_size`: an (x,y) tuple giving the height and width of the kernel to be used\n",
    "- `strides`: and (x,y) tuple giving the stride in each dimension.  Default is `(1,1)`\n",
    "- `input_shape`: required only for the first layer\n",
    "\n",
    "Note, the size of the output will be determined by the kernel_size, strides\n",
    "\n",
    "#### MaxPooling2D\n",
    "`keras.layers.pooling.MaxPooling2D(pool_size=(2, 2), strides=None, padding='valid', data_format=None)`\n",
    "\n",
    "- `pool_size`: the (x,y) size of the grid to be pooled.\n",
    "- `strides`: Assumed to be the `pool_size` unless otherwise specified\n",
    "\n",
    "#### Flatten\n",
    "Turns its input into a one-dimensional vector (per instance).  Usually used when transitioning between convolutional layers and fully connected layers.\n"
   ]
  },
  {
   "cell_type": "markdown",
   "metadata": {},
   "source": [
    "# Exercise\n",
    "### Build your own CNN model\n",
    "Use the Keras \"Sequential\" functionality to build a convolutional neural network `model_2` with the following specifications:\n",
    "<br>\n",
    "<br>\n",
    "Model Architecture:<br>\n",
    "We will build the famous LeNet-5 architecutre and measure its performance.\n",
    "<br>\n",
    "    Convolution -> Relu -> Max pooling -> Convolution -> Relu -> Max pooling -> FC1 -> Relu -> FC2 -> Output(SoftMax)\n",
    "<br>\n",
    "\n",
    "1. Convolution1 kernel size: 5(H) x 5(W) x 6(filters), stride = 1, no padding\n",
    "2. Max pooling1 kernel size: 2(H) x 2(W), stride = 2\n",
    "3. Convolution2 kernel size: 5(H) x 5(W) x 16(filters), stride = 1, no padding\n",
    "4. Max pooling2 kernel size: 2(H) x 2(W), stride = 2\n",
    "5. Fully Connected1 size: 120\n",
    "6. Fully Connected1 size: 84\n",
    "7. How many parameters does your model have?  How does it compare with the previous model?\n",
    "8. Train this model for 20 epochs with RMSProp at a learning rate of .001 and a batch size of 128\n",
    "9. Plot the loss and accuracy graph for training the new model \n",
    "10. Evaluate the model on test data"
   ]
  },
  {
   "cell_type": "markdown",
   "metadata": {},
   "source": [
    "To use the LeNet model, we need to do some preprocessing of the data first."
   ]
  },
  {
   "cell_type": "code",
   "execution_count": 16,
   "metadata": {},
   "outputs": [
    {
     "data": {
      "text/plain": [
       "((60000, 28, 28), (10000, 28, 28))"
      ]
     },
     "execution_count": 16,
     "metadata": {},
     "output_type": "execute_result"
    }
   ],
   "source": [
    "# Data is currently flattened i.e. m X 784, we need to reshape it back to 28 * 28. To do that we reshape the data.\n",
    "\n",
    "x_train = np.reshape(x_train, [-1, 28, 28])\n",
    "x_test = np.reshape(x_test, [-1, 28, 28])\n",
    "x_train.shape, x_test.shape"
   ]
  },
  {
   "cell_type": "code",
   "execution_count": 17,
   "metadata": {},
   "outputs": [
    {
     "data": {
      "text/plain": [
       "((60000, 32, 32), (10000, 32, 32))"
      ]
     },
     "execution_count": 17,
     "metadata": {},
     "output_type": "execute_result"
    }
   ],
   "source": [
    "# LeNet requires input of 32 X 32. So, we will pad the train and test images with zeros to increase the size to 32 X 32.\n",
    "\n",
    "x_train=np.pad(x_train, ((0,0), (2,2), (2, 2)), 'constant')\n",
    "x_test=np.pad(x_test, ((0,0), (2,2), (2, 2)), 'constant')\n",
    "x_train.shape, x_test.shape"
   ]
  },
  {
   "cell_type": "code",
   "execution_count": 18,
   "metadata": {},
   "outputs": [
    {
     "data": {
      "text/plain": [
       "((60000, 32, 32, 1), (10000, 32, 32, 1))"
      ]
     },
     "execution_count": 18,
     "metadata": {},
     "output_type": "execute_result"
    }
   ],
   "source": [
    "# Convolutional model requires input to be of 3 dimensions. We will add a channel dimension to it.\n",
    "\n",
    "x_train = np.reshape(x_train, [-1, 32, 32, 1])\n",
    "x_test = np.reshape(x_test, [-1, 32, 32, 1])\n",
    "x_train.shape, x_test.shape"
   ]
  },
  {
   "cell_type": "markdown",
   "metadata": {},
   "source": [
    "Write your model below"
   ]
  },
  {
   "cell_type": "code",
   "execution_count": 19,
   "metadata": {},
   "outputs": [],
   "source": [
    "#(!!!) UNTESTED MODEL\n",
    "    #is padding invalid by default?\n",
    "model2 = Sequential()\n",
    "\n",
    "#CNN LAYER 1\n",
    "    #6 filters is the STARTING number\n",
    "        #'valid' padding is no padding\n",
    "        #Tuple for strides is the same number all throughout\n",
    "        #Strides have same dimensions as kernel\n",
    "model2.add(Conv2D(6, kernel_size=(5,5), strides=(1,1),activation='relu', padding='valid'))\n",
    "model2.add(MaxPooling2D(pool_size=(2,2),strides=(2,2)))\n",
    "\n",
    "#CNN LAYER 2\n",
    "    #16 filters is the STARTING number\n",
    "    #'valid' padding is no padding\n",
    "model2.add(Conv2D(16, kernel_size=(5,5), strides=(1,1),activation='relu', padding='valid'))\n",
    "model2.add(MaxPooling2D(pool_size=(2,2),strides=(2,2)))\n",
    "\n",
    "#Fully Connected\n",
    "    #NEED activation function at every layer\n",
    "    #Here, we will always use relu\n",
    "model2.add(Flatten())\n",
    "    #Just replace Flatten with Dropout for bonus project\n",
    "model2.add(Dense(120, activation='relu'))\n",
    "model2.add(Dense(84, activation='relu'))\n",
    "model2.add(Dense(10, activation='softmax'))\n",
    "    #Because 10 numbers"
   ]
  },
  {
   "cell_type": "code",
   "execution_count": 20,
   "metadata": {},
   "outputs": [
    {
     "name": "stdout",
     "output_type": "stream",
     "text": [
      "Train on 60000 samples, validate on 10000 samples\n",
      "Epoch 1/20\n",
      "60000/60000 [==============================] - 17s 277us/step - loss: 0.3191 - accuracy: 0.9002 - val_loss: 0.1221 - val_accuracy: 0.9591\n",
      "Epoch 2/20\n",
      "60000/60000 [==============================] - 16s 275us/step - loss: 0.0859 - accuracy: 0.9729 - val_loss: 0.0572 - val_accuracy: 0.9807\n",
      "Epoch 3/20\n",
      "60000/60000 [==============================] - 16s 270us/step - loss: 0.0581 - accuracy: 0.9819 - val_loss: 0.0511 - val_accuracy: 0.9823\n",
      "Epoch 4/20\n",
      "60000/60000 [==============================] - 16s 273us/step - loss: 0.0452 - accuracy: 0.9857 - val_loss: 0.0418 - val_accuracy: 0.9854\n",
      "Epoch 5/20\n",
      "60000/60000 [==============================] - 17s 276us/step - loss: 0.0354 - accuracy: 0.9884 - val_loss: 0.0465 - val_accuracy: 0.9849\n",
      "Epoch 6/20\n",
      "60000/60000 [==============================] - 16s 273us/step - loss: 0.0287 - accuracy: 0.9907 - val_loss: 0.0333 - val_accuracy: 0.9898\n",
      "Epoch 7/20\n",
      "60000/60000 [==============================] - 17s 276us/step - loss: 0.0244 - accuracy: 0.9923 - val_loss: 0.0336 - val_accuracy: 0.9901\n",
      "Epoch 8/20\n",
      "60000/60000 [==============================] - 17s 276us/step - loss: 0.0212 - accuracy: 0.9936 - val_loss: 0.0419 - val_accuracy: 0.9874\n",
      "Epoch 9/20\n",
      "60000/60000 [==============================] - 17s 277us/step - loss: 0.0178 - accuracy: 0.9943 - val_loss: 0.0352 - val_accuracy: 0.9895\n",
      "Epoch 10/20\n",
      "60000/60000 [==============================] - 16s 273us/step - loss: 0.0160 - accuracy: 0.9949 - val_loss: 0.0461 - val_accuracy: 0.9866\n",
      "Epoch 11/20\n",
      "60000/60000 [==============================] - 17s 283us/step - loss: 0.0136 - accuracy: 0.9956 - val_loss: 0.0377 - val_accuracy: 0.9898\n",
      "Epoch 12/20\n",
      "60000/60000 [==============================] - 18s 298us/step - loss: 0.0117 - accuracy: 0.9960 - val_loss: 0.0418 - val_accuracy: 0.9899\n",
      "Epoch 13/20\n",
      "60000/60000 [==============================] - 17s 285us/step - loss: 0.0107 - accuracy: 0.9965 - val_loss: 0.0432 - val_accuracy: 0.9902\n",
      "Epoch 14/20\n",
      "60000/60000 [==============================] - 17s 284us/step - loss: 0.0092 - accuracy: 0.9971 - val_loss: 0.0648 - val_accuracy: 0.9845\n",
      "Epoch 15/20\n",
      "60000/60000 [==============================] - 17s 285us/step - loss: 0.0081 - accuracy: 0.9973 - val_loss: 0.0416 - val_accuracy: 0.9900\n",
      "Epoch 16/20\n",
      "60000/60000 [==============================] - 17s 286us/step - loss: 0.0075 - accuracy: 0.9976 - val_loss: 0.0468 - val_accuracy: 0.9893\n",
      "Epoch 17/20\n",
      "60000/60000 [==============================] - 17s 287us/step - loss: 0.0063 - accuracy: 0.9979 - val_loss: 0.0469 - val_accuracy: 0.9897\n",
      "Epoch 18/20\n",
      "60000/60000 [==============================] - 17s 291us/step - loss: 0.0057 - accuracy: 0.9982 - val_loss: 0.0444 - val_accuracy: 0.9908\n",
      "Epoch 19/20\n",
      "60000/60000 [==============================] - 17s 290us/step - loss: 0.0064 - accuracy: 0.9980 - val_loss: 0.0537 - val_accuracy: 0.9893\n",
      "Epoch 20/20\n",
      "60000/60000 [==============================] - 17s 290us/step - loss: 0.0054 - accuracy: 0.9984 - val_loss: 0.0483 - val_accuracy: 0.9900\n",
      "Test loss: 0.04825610860125088\n",
      "Test accuracy: 0.9900000095367432\n"
     ]
    }
   ],
   "source": [
    "#(!!!) UNTESTED COMPILATION\n",
    "    #20 epochs \n",
    "    #With RMSProp \n",
    "    #Learning rate of .001 \n",
    "    #Batch size of 128\n",
    "model2.compile(loss=keras.losses.categorical_crossentropy,\n",
    "              optimizer=keras.optimizers.RMSprop(lr=0.001),\n",
    "              metrics=['accuracy'])\n",
    "\n",
    "\"\"\"model2.fit(x_train, y_train,\n",
    "          batch_size=128,\n",
    "          epochs=20,\n",
    "          verbose=1,\n",
    "          validation_data=(x_test, y_test),\n",
    "          callbacks=[history])\"\"\"\n",
    "\n",
    "#-----------------------------------------------\n",
    "#(!!!) WILL CHANGE BATCH SIZE AND EPOCH NUMBER\n",
    "batch_size = 128  # mini-batch with 128 examples\n",
    "epochs = 20\n",
    "history2 = model2.fit(\n",
    "    x_train, y_train,\n",
    "    batch_size=batch_size,\n",
    "    epochs=epochs,\n",
    "    verbose=1,\n",
    "    validation_data=(x_test, y_test))\n",
    "#-----------------------------------------------\n",
    "\n",
    "score = model2.evaluate(x_test, y_test, verbose=0)\n",
    "print('Test loss:', score[0])\n",
    "print('Test accuracy:', score[1])"
   ]
  },
  {
   "cell_type": "code",
   "execution_count": 21,
   "metadata": {},
   "outputs": [
    {
     "name": "stdout",
     "output_type": "stream",
     "text": [
      "Model: \"sequential_2\"\n",
      "_________________________________________________________________\n",
      "Layer (type)                 Output Shape              Param #   \n",
      "=================================================================\n",
      "conv2d_1 (Conv2D)            (None, 28, 28, 6)         156       \n",
      "_________________________________________________________________\n",
      "max_pooling2d_1 (MaxPooling2 (None, 14, 14, 6)         0         \n",
      "_________________________________________________________________\n",
      "conv2d_2 (Conv2D)            (None, 10, 10, 16)        2416      \n",
      "_________________________________________________________________\n",
      "max_pooling2d_2 (MaxPooling2 (None, 5, 5, 16)          0         \n",
      "_________________________________________________________________\n",
      "flatten_1 (Flatten)          (None, 400)               0         \n",
      "_________________________________________________________________\n",
      "dense_4 (Dense)              (None, 120)               48120     \n",
      "_________________________________________________________________\n",
      "dense_5 (Dense)              (None, 84)                10164     \n",
      "_________________________________________________________________\n",
      "dense_6 (Dense)              (None, 10)                850       \n",
      "=================================================================\n",
      "Total params: 61,706\n",
      "Trainable params: 61,706\n",
      "Non-trainable params: 0\n",
      "_________________________________________________________________\n"
     ]
    }
   ],
   "source": [
    "## Note that this model has a LOT of parameters\n",
    "    #Numbers verified to be correct\n",
    "model2.summary()"
   ]
  },
  {
   "cell_type": "code",
   "execution_count": 22,
   "metadata": {},
   "outputs": [
    {
     "data": {
      "image/png": "[encoded data removed]",
      "text/plain": [
       "<Figure size 864x432 with 2 Axes>"
      ]
     },
     "metadata": {
      "needs_background": "light"
     },
     "output_type": "display_data"
    }
   ],
   "source": [
    "plot_loss_accuracy(history2)"
   ]
  },
  {
   "cell_type": "markdown",
   "metadata": {},
   "source": [
    "### -----------------------------------------------------------------------------------------------------------------------------"
   ]
  },
  {
   "cell_type": "markdown",
   "metadata": {},
   "source": [
    "# Fashion MNIST\n",
    "We will do the similar things for Fashion MNIST dataset. Fashion MNIST has 10 categories of clothing items:<br>\n",
    "\n",
    "| Label | Description | \n",
    "| --- | --- | \n",
    "| 0 | T-shirt/top |\n",
    "| 1 | Trouser |\n",
    "| 2 | Pullover |\n",
    "| 3 | Dress |\n",
    "| 4 | Coat |\n",
    "| 5 | Sandal |\n",
    "| 6 | Shirt |\n",
    "| 7 | Sneaker |\n",
    "| 8 | Bag |\n",
    "| 9 | Ankle boot |"
   ]
  },
  {
   "cell_type": "code",
   "execution_count": 25,
   "metadata": {},
   "outputs": [],
   "source": [
    "# Load the data, shuffled and split between train and test sets\n",
    "(x_train, y_train), (x_test, y_test) = fashion_mnist.load_data()"
   ]
  },
  {
   "cell_type": "code",
   "execution_count": 26,
   "metadata": {},
   "outputs": [
    {
     "data": {
      "text/plain": [
       "(28, 28)"
      ]
     },
     "execution_count": 26,
     "metadata": {},
     "output_type": "execute_result"
    }
   ],
   "source": [
    "x_train[0].shape"
   ]
  },
  {
   "cell_type": "code",
   "execution_count": 27,
   "metadata": {},
   "outputs": [
    {
     "data": {
      "text/plain": [
       "array([[  0,   0,   0,   0,   0,   0,   0,   0,   0,   0,   0,   3,   0,\n",
       "         42,  92,  71, 107,  33,   0,   3,   0,   1,   0,   0,   0,   0,\n",
       "          0,   0],\n",
       "       [  0,   0,   0,   0,   0,   0,   0,   0,   0,   0,   2,   0,  23,\n",
       "        145,   0,   0,   0, 113,  20,   0,   3,   0,   0,   0,   0,   0,\n",
       "          0,   0],\n",
       "       [  0,   0,   0,   0,   0,   0,   0,   0,   0,   0,   0,   0,  89,\n",
       "          8,   0,  10,   0,  36, 104,   0,   2,   0,   0,   0,   0,   0,\n",
       "          0,   0],\n",
       "       [  0,   0,   0,   0,   0,   0,   0,   0,   0,   3,   0,  37,  97,\n",
       "          0,   5,   1,   0,   0, 141,  23,   0,   2,   0,   0,   0,   0,\n",
       "          0,   0],\n",
       "       [  0,   0,   0,   0,   0,   0,   0,   0,   0,   5,   0,  70,  75,\n",
       "          0,   6,   1,   0,   0, 141,  56,   0,   5,   0,   0,   0,   0,\n",
       "          0,   0],\n",
       "       [  0,   0,   0,   0,   0,   0,   0,   0,   0,   6,   0,  85,  57,\n",
       "          0,   5,   1,   1,   0, 126,  62,   0,   6,   0,   0,   0,   0,\n",
       "          0,   0],\n",
       "       [  0,   0,   0,   0,   0,   0,   0,   0,   0,   6,   0,  85,  44,\n",
       "          0,   3,   0,   4,   0, 109,  66,   0,   6,   0,   0,   0,   0,\n",
       "          0,   0],\n",
       "       [  0,   0,   0,   0,   0,   0,   0,   0,   0,   6,   0,  75,  41,\n",
       "          0,   3,   0,   5,   0,  89,  68,   0,   6,   0,   0,   0,   0,\n",
       "          0,   0],\n",
       "       [  0,   0,   0,   0,   0,   0,   0,   0,   0,   5,   0,  71,  44,\n",
       "          0,   3,   0,   6,   0,  74,  69,   0,   6,   0,   0,   0,   0,\n",
       "          0,   0],\n",
       "       [  0,   0,   0,   0,   0,   0,   0,   0,   0,   4,   0,  80,  68,\n",
       "          0,   4,   0,   5,   0,  89,  85,   0,   6,   0,   0,   0,   0,\n",
       "          0,   0],\n",
       "       [  0,   0,   0,   0,   0,   0,   0,   2,   3,   8,   0,  74,  89,\n",
       "          0,  10,   3,  10,   0,  98,  84,   0,  10,   4,   3,   0,   0,\n",
       "          0,   0],\n",
       "       [  0,   0,   0,   0,   0,   0,   0,   0,   0,   0,   0,  30,  80,\n",
       "          0,   0,   0,   0,   0,  69,  37,   0,   0,   0,   0,   0,   0,\n",
       "          0,   0],\n",
       "       [  0,   0,   0,   0,   0,   2,   0,  80, 117, 118,  92, 125, 144,\n",
       "        109, 141, 126, 132, 115, 151, 141, 130, 142, 150,  57,   0,   0,\n",
       "          0,   0],\n",
       "       [  0,   0,   0,   0,   0,   0,   0,  81, 162, 158, 153, 165, 192,\n",
       "        182, 196, 187, 172, 183, 203, 206, 195, 188, 200, 140,   0,   0,\n",
       "          0,   0],\n",
       "       [  0,   0,   0,   0,   0,   0,   0, 114, 158, 169, 164, 164, 196,\n",
       "        183, 177, 168, 163, 174, 195, 198, 195, 174, 170, 142,   0,   0,\n",
       "          0,   0],\n",
       "       [  0,   0,   0,   0,   0,   0,   0, 186, 166, 161, 180, 183, 214,\n",
       "        181, 158, 163, 181, 186, 197, 186, 184, 193, 197,  86,   0,   0,\n",
       "          0,   0],\n",
       "       [  0,   0,   0,   0,   0,   0,   0, 162, 195, 185, 182, 186, 186,\n",
       "        186, 193, 194, 194, 196, 195, 195, 192, 184, 215, 161,   0,   0,\n",
       "          0,   0],\n",
       "       [  0,   0,   0,   0,   0,   0,   0, 165, 233, 219, 230, 235, 230,\n",
       "        228, 229, 229, 221, 218, 217, 215, 212, 204, 221, 160,   0,   0,\n",
       "          0,   0],\n",
       "       [  0,   0,   0,   0,   0,   0, 134, 202, 221, 218, 220, 224, 222,\n",
       "        220, 219, 221, 219, 213, 213, 208, 208, 199, 220, 142,   0,   0,\n",
       "          0,   0],\n",
       "       [  0,   0,   0,   0,   0,  92, 213, 205, 233, 217, 226, 225, 226,\n",
       "        222, 220, 219, 219, 217, 214, 212, 209, 195, 231, 126,   0,   0,\n",
       "          0,   0],\n",
       "       [  0,   0,   0,   0,   0, 120,   0, 187, 247, 221, 224, 225, 222,\n",
       "        218, 219, 219, 219, 216, 214, 212, 210, 197, 246, 130,   0,   0,\n",
       "          0,   0],\n",
       "       [  0,   0,   0,   0,   0,   0,   0, 206, 243, 231, 228, 230, 228,\n",
       "        225, 226, 225, 222, 217, 215, 215, 211, 212, 255, 126,   0,   0,\n",
       "          0,   0],\n",
       "       [  0,   0,   0,   0,   0,  68,   0, 149, 244, 227, 229, 235, 229,\n",
       "        228, 227, 216, 212, 211, 211, 211, 209, 214, 233, 120,   0,   0,\n",
       "          0,   0],\n",
       "       [  0,   0,   0,   0,   0, 117, 124, 151, 242, 232, 238, 237, 232,\n",
       "        230, 226, 216, 213, 215, 211, 208, 206, 214, 232, 114,   0,   0,\n",
       "          0,   0],\n",
       "       [  0,   0,   0,   0,   0,   0, 138, 225, 213, 218, 231, 234, 234,\n",
       "        237, 227, 199, 204, 213, 208, 204, 203, 214, 231, 112,   0,   0,\n",
       "          0,   0],\n",
       "       [  0,   0,   0,   0,   0,   0,  19, 222, 218, 214, 206, 208, 220,\n",
       "        228, 224, 222, 224, 220, 220, 220, 221, 226, 237, 132,   0,   0,\n",
       "          0,   0],\n",
       "       [  0,   0,   0,   0,   0,   0,  56, 211, 230, 229, 227, 197, 173,\n",
       "        193, 240,  50,  50,  58,  55,  56,  59,  57,  70,  11,   0,   0,\n",
       "          0,   0],\n",
       "       [  0,   0,   0,   0,   0,   0,   0,   0,  94, 157, 193, 222, 219,\n",
       "        205, 140,   0,   0,   0,   0,   0,   0,   0,   0,   0,   0,   0,\n",
       "          0,   0]], dtype=uint8)"
      ]
     },
     "execution_count": 27,
     "metadata": {},
     "output_type": "execute_result"
    }
   ],
   "source": [
    "#Let's just look at a particular example to see what is inside\n",
    "\n",
    "x_train[333]  ## Just a 28 x 28 numpy array of ints from 0 to 255"
   ]
  },
  {
   "cell_type": "code",
   "execution_count": 28,
   "metadata": {},
   "outputs": [
    {
     "data": {
      "text/plain": [
       "8"
      ]
     },
     "execution_count": 28,
     "metadata": {},
     "output_type": "execute_result"
    }
   ],
   "source": [
    "# What is the corresponding label in the training set?\n",
    "y_train[333]"
   ]
  },
  {
   "cell_type": "code",
   "execution_count": 29,
   "metadata": {},
   "outputs": [
    {
     "data": {
      "text/plain": [
       "<matplotlib.image.AxesImage at 0x1ba02f399b0>"
      ]
     },
     "execution_count": 29,
     "metadata": {},
     "output_type": "execute_result"
    },
    {
     "data": {
      "image/png": "[encoded data removed]",
      "text/plain": [
       "<Figure size 432x288 with 1 Axes>"
      ]
     },
     "metadata": {
      "needs_background": "light"
     },
     "output_type": "display_data"
    }
   ],
   "source": [
    "# Let's see what this image actually looks like\n",
    "\n",
    "plt.imshow(x_train[333], cmap='Greys_r')"
   ]
  },
  {
   "cell_type": "code",
   "execution_count": 30,
   "metadata": {},
   "outputs": [
    {
     "name": "stdout",
     "output_type": "stream",
     "text": [
      "(60000, 28, 28) train samples\n",
      "(10000, 28, 28) test samples\n"
     ]
    }
   ],
   "source": [
    "# this is the shape of the np.array x_train\n",
    "# it is 3 dimensional.\n",
    "print(x_train.shape, 'train samples')\n",
    "print(x_test.shape, 'test samples')"
   ]
  },
  {
   "cell_type": "code",
   "execution_count": 31,
   "metadata": {},
   "outputs": [],
   "source": [
    "## For our purposes, these images are just a vector of 784 inputs, so let's convert\n",
    "x_train = x_train.reshape(len(x_train), 28*28)\n",
    "x_test = x_test.reshape(len(x_test), 28*28)\n",
    "\n",
    "## Keras works with floats, so we must cast the numbers to floats\n",
    "x_train = x_train.astype('float32')\n",
    "x_test = x_test.astype('float32')\n",
    "\n",
    "## Normalize the inputs so they are between 0 and 1\n",
    "x_train /= 255\n",
    "x_test /= 255"
   ]
  },
  {
   "cell_type": "code",
   "execution_count": 32,
   "metadata": {},
   "outputs": [
    {
     "data": {
      "text/plain": [
       "array([0., 0., 0., 0., 0., 0., 0., 0., 1., 0.], dtype=float32)"
      ]
     },
     "execution_count": 32,
     "metadata": {},
     "output_type": "execute_result"
    }
   ],
   "source": [
    "# convert class vectors to binary class matrices\n",
    "num_classes = 10\n",
    "y_train = keras.utils.to_categorical(y_train, num_classes)\n",
    "y_test = keras.utils.to_categorical(y_test, num_classes)\n",
    "\n",
    "y_train[333]  "
   ]
  },
  {
   "cell_type": "markdown",
   "metadata": {},
   "source": [
    "## Reperforming the earlier preprocessing methods"
   ]
  },
  {
   "cell_type": "code",
   "execution_count": 33,
   "metadata": {},
   "outputs": [
    {
     "data": {
      "text/plain": [
       "((60000, 28, 28), (10000, 28, 28))"
      ]
     },
     "execution_count": 33,
     "metadata": {},
     "output_type": "execute_result"
    }
   ],
   "source": [
    "# Data is currently flattened i.e. m X 784, we need to reshape it back to 28 * 28. To do that we reshape the data.\n",
    "\n",
    "x_train = np.reshape(x_train, [-1, 28, 28])\n",
    "x_test = np.reshape(x_test, [-1, 28, 28])\n",
    "x_train.shape, x_test.shape"
   ]
  },
  {
   "cell_type": "code",
   "execution_count": 34,
   "metadata": {},
   "outputs": [
    {
     "data": {
      "text/plain": [
       "((60000, 32, 32), (10000, 32, 32))"
      ]
     },
     "execution_count": 34,
     "metadata": {},
     "output_type": "execute_result"
    }
   ],
   "source": [
    "# LeNet requires input of 32 X 32. So, we will pad the train and test images with zeros to increase the size to 32 X 32.\n",
    "\n",
    "x_train=np.pad(x_train, ((0,0), (2,2), (2, 2)), 'constant')\n",
    "x_test=np.pad(x_test, ((0,0), (2,2), (2, 2)), 'constant')\n",
    "x_train.shape, x_test.shape"
   ]
  },
  {
   "cell_type": "code",
   "execution_count": 35,
   "metadata": {},
   "outputs": [
    {
     "data": {
      "text/plain": [
       "((60000, 32, 32, 1), (10000, 32, 32, 1))"
      ]
     },
     "execution_count": 35,
     "metadata": {},
     "output_type": "execute_result"
    }
   ],
   "source": [
    "# Convolutional model requires input to be of 3 dimensions. We will add a channel dimension to it.\n",
    "\n",
    "x_train = np.reshape(x_train, [-1, 32, 32, 1])\n",
    "x_test = np.reshape(x_test, [-1, 32, 32, 1])\n",
    "x_train.shape, x_test.shape"
   ]
  },
  {
   "cell_type": "markdown",
   "metadata": {},
   "source": [
    "I then built a similar convolutional model with a differnet structure, learning rate or number of epochs, etc. that would result in a good model for the dataset"
   ]
  },
  {
   "cell_type": "code",
   "execution_count": 37,
   "metadata": {},
   "outputs": [
    {
     "data": {
      "text/plain": [
       "'\\n--WHAT FACTORS I CAN CHANGE FOR A GOOD MODEL--\\n\\n# of layers\\n# of filters (starting number)\\n#filter size (dimensions)\\n#size\\n\\n70% would be GOOD'"
      ]
     },
     "execution_count": 37,
     "metadata": {},
     "output_type": "execute_result"
    }
   ],
   "source": [
    "# write your model here.\n",
    "\"\"\"\n",
    "--WHAT FACTORS I CAN CHANGE FOR A GOOD MODEL--\n",
    "\n",
    "# of layers\n",
    "# of filters (starting number)\n",
    "#filter size (dimensions)\n",
    "#size\n",
    "\n",
    "70% would be GOOD\"\"\""
   ]
  },
  {
   "cell_type": "code",
   "execution_count": 38,
   "metadata": {},
   "outputs": [],
   "source": [
    "model3 = Sequential()\n",
    "model3.add(Conv2D(32, kernel_size=(3, 3), activation='relu'))\n",
    "model3.add(MaxPooling2D(pool_size=(2, 2)))\n",
    "model3.add(Dropout(0.2))\n",
    "\n",
    "model3.add(Flatten())\n",
    "\n",
    "model3.add(Dense(128, activation='relu'))\n",
    "model3.add(Dense(10, activation='softmax'))"
   ]
  },
  {
   "cell_type": "code",
   "execution_count": 39,
   "metadata": {},
   "outputs": [
    {
     "name": "stdout",
     "output_type": "stream",
     "text": [
      "Train on 60000 samples, validate on 10000 samples\n",
      "Epoch 1/20\n",
      "60000/60000 [==============================] - 26s 433us/step - loss: 0.4442 - accuracy: 0.8445 - val_loss: 0.3443 - val_accuracy: 0.8794\n",
      "Epoch 2/20\n",
      "60000/60000 [==============================] - 27s 450us/step - loss: 0.2984 - accuracy: 0.8914 - val_loss: 0.2951 - val_accuracy: 0.8923\n",
      "Epoch 3/20\n",
      "60000/60000 [==============================] - 27s 452us/step - loss: 0.2580 - accuracy: 0.9075 - val_loss: 0.2842 - val_accuracy: 0.8929\n",
      "Epoch 4/20\n",
      "60000/60000 [==============================] - 27s 454us/step - loss: 0.2312 - accuracy: 0.9153 - val_loss: 0.2589 - val_accuracy: 0.9056\n",
      "Epoch 5/20\n",
      "60000/60000 [==============================] - 27s 458us/step - loss: 0.2120 - accuracy: 0.9218 - val_loss: 0.2587 - val_accuracy: 0.9081\n",
      "Epoch 6/20\n",
      "60000/60000 [==============================] - 28s 468us/step - loss: 0.1941 - accuracy: 0.9277 - val_loss: 0.2464 - val_accuracy: 0.9115\n",
      "Epoch 7/20\n",
      "60000/60000 [==============================] - 29s 476us/step - loss: 0.1815 - accuracy: 0.9329 - val_loss: 0.2459 - val_accuracy: 0.9119\n",
      "Epoch 8/20\n",
      "60000/60000 [==============================] - 28s 469us/step - loss: 0.1661 - accuracy: 0.9385 - val_loss: 0.2488 - val_accuracy: 0.9136\n",
      "Epoch 9/20\n",
      "60000/60000 [==============================] - 29s 477us/step - loss: 0.1535 - accuracy: 0.9431 - val_loss: 0.2390 - val_accuracy: 0.9166\n",
      "Epoch 10/20\n",
      "60000/60000 [==============================] - 29s 480us/step - loss: 0.1409 - accuracy: 0.9474 - val_loss: 0.2412 - val_accuracy: 0.9171\n",
      "Epoch 11/20\n",
      "60000/60000 [==============================] - 29s 484us/step - loss: 0.1310 - accuracy: 0.9519 - val_loss: 0.2395 - val_accuracy: 0.9177\n",
      "Epoch 12/20\n",
      "60000/60000 [==============================] - 29s 482us/step - loss: 0.1208 - accuracy: 0.9553 - val_loss: 0.2490 - val_accuracy: 0.9188\n",
      "Epoch 13/20\n",
      "60000/60000 [==============================] - 28s 472us/step - loss: 0.1139 - accuracy: 0.9581 - val_loss: 0.2581 - val_accuracy: 0.9178\n",
      "Epoch 14/20\n",
      "60000/60000 [==============================] - 28s 469us/step - loss: 0.1037 - accuracy: 0.9622 - val_loss: 0.2493 - val_accuracy: 0.9225\n",
      "Epoch 15/20\n",
      "60000/60000 [==============================] - 29s 478us/step - loss: 0.0973 - accuracy: 0.9641 - val_loss: 0.2553 - val_accuracy: 0.9230s - - ETA: 0s - loss: 0.0970 - ac - ETA: 0s - loss: 0.0969 \n",
      "Epoch 16/20\n",
      "60000/60000 [==============================] - 29s 489us/step - loss: 0.0888 - accuracy: 0.9674 - val_loss: 0.2679 - val_accuracy: 0.9220\n",
      "Epoch 17/20\n",
      "60000/60000 [==============================] - 30s 495us/step - loss: 0.0815 - accuracy: 0.9697 - val_loss: 0.2868 - val_accuracy: 0.9206\n",
      "Epoch 18/20\n",
      "60000/60000 [==============================] - 29s 487us/step - loss: 0.0762 - accuracy: 0.9724 - val_loss: 0.2802 - val_accuracy: 0.9231\n",
      "Epoch 19/20\n",
      "60000/60000 [==============================] - 30s 502us/step - loss: 0.0692 - accuracy: 0.9752 - val_loss: 0.2889 - val_accuracy: 0.9226\n",
      "Epoch 20/20\n",
      "60000/60000 [==============================] - 29s 485us/step - loss: 0.0684 - accuracy: 0.9751 - val_loss: 0.2852 - val_accuracy: 0.9267\n",
      "Test loss: 0.285246646079421\n",
      "Test accuracy: 0.9266999959945679\n"
     ]
    }
   ],
   "source": [
    "model3.compile(loss=keras.losses.categorical_crossentropy,\n",
    "              optimizer=keras.optimizers.Adam(lr=0.001),\n",
    "              metrics=['accuracy'])\n",
    "#-----------------------------------------------\n",
    "#(!!!) DEBUGGING PURPOSES\n",
    "    #(!!!) CHANGED BATCH SIZE TO 512\n",
    "    #(!!!) CHANGED EPOCHS TO 2\n",
    "\n",
    "#(!!!) WILL CHANGE BATCH SIZE AND EPOCH NUMBER\n",
    "batch_size = 128  # mini-batch with 128 examples\n",
    "epochs = 20\n",
    "history3 = model3.fit(\n",
    "    x_train, y_train,\n",
    "    batch_size=batch_size,\n",
    "    epochs=epochs,\n",
    "    verbose=1,\n",
    "    validation_data=(x_test, y_test))\n",
    "#-----------------------------------------------\n",
    "score = model3.evaluate(x_test, y_test, verbose=0)\n",
    "print('Test loss:', score[0])\n",
    "print('Test accuracy:', score[1])"
   ]
  },
  {
   "cell_type": "code",
   "execution_count": 40,
   "metadata": {},
   "outputs": [
    {
     "name": "stdout",
     "output_type": "stream",
     "text": [
      "Model: \"sequential_3\"\n",
      "_________________________________________________________________\n",
      "Layer (type)                 Output Shape              Param #   \n",
      "=================================================================\n",
      "conv2d_3 (Conv2D)            (None, 30, 30, 32)        320       \n",
      "_________________________________________________________________\n",
      "max_pooling2d_3 (MaxPooling2 (None, 15, 15, 32)        0         \n",
      "_________________________________________________________________\n",
      "dropout_3 (Dropout)          (None, 15, 15, 32)        0         \n",
      "_________________________________________________________________\n",
      "flatten_2 (Flatten)          (None, 7200)              0         \n",
      "_________________________________________________________________\n",
      "dense_7 (Dense)              (None, 128)               921728    \n",
      "_________________________________________________________________\n",
      "dense_8 (Dense)              (None, 10)                1290      \n",
      "=================================================================\n",
      "Total params: 923,338\n",
      "Trainable params: 923,338\n",
      "Non-trainable params: 0\n",
      "_________________________________________________________________\n"
     ]
    }
   ],
   "source": [
    "## Note that this model has a LOT of parameters\n",
    "    #Numbers verified to be correct\n",
    "model3.summary()"
   ]
  },
  {
   "cell_type": "code",
   "execution_count": 41,
   "metadata": {},
   "outputs": [
    {
     "data": {
      "image/png": "[encoded data removed]",
      "text/plain": [
       "<Figure size 864x432 with 2 Axes>"
      ]
     },
     "metadata": {
      "needs_background": "light"
     },
     "output_type": "display_data"
    }
   ],
   "source": [
    "plot_loss_accuracy(history3)"
   ]
  },
  {
   "cell_type": "code",
   "execution_count": null,
   "metadata": {},
   "outputs": [],
   "source": []
  }
 ],
 "metadata": {
  "kernelspec": {
   "display_name": "Python 3",
   "language": "python",
   "name": "python3"
  },
  "language_info": {
   "codemirror_mode": {
    "name": "ipython",
    "version": 3
   },
   "file_extension": ".py",
   "mimetype": "text/x-python",
   "name": "python",
   "nbconvert_exporter": "python",
   "pygments_lexer": "ipython3",
   "version": "3.7.3"
  }
 },
 "nbformat": 4,
 "nbformat_minor": 1
}
